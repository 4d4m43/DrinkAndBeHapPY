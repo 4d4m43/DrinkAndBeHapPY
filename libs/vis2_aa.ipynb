{
 "cells": [
  {
   "cell_type": "markdown",
   "metadata": {},
   "source": [
    "# Alcohol Heat Map"
   ]
  },
  {
   "cell_type": "markdown",
   "metadata": {},
   "source": [
    "## Dependencies Set-up"
   ]
  },
  {
   "cell_type": "code",
   "execution_count": 16,
   "metadata": {},
   "outputs": [],
   "source": [
    "# Dependencies\n",
    "from vis1_cnfg import gkey\n",
    "import gmaps\n",
    "import numpy as np\n",
    "import pandas as pd\n",
    "import requests\n",
    "import time\n",
    "from us import states\n",
    "import json\n",
    "import matplotlib.pyplot as plt\n",
    "from scipy.stats import linregress\n",
    "from scipy import stats\n",
    "\n",
    "# Configure gmaps with API key\n",
    "gmaps.configure(api_key=gkey)"
   ]
  },
  {
   "cell_type": "markdown",
   "metadata": {},
   "source": [
    "## Data Retrieval"
   ]
  },
  {
   "cell_type": "code",
   "execution_count": 2,
   "metadata": {},
   "outputs": [
    {
     "data": {
      "text/html": [
       "<div>\n",
       "<style scoped>\n",
       "    .dataframe tbody tr th:only-of-type {\n",
       "        vertical-align: middle;\n",
       "    }\n",
       "\n",
       "    .dataframe tbody tr th {\n",
       "        vertical-align: top;\n",
       "    }\n",
       "\n",
       "    .dataframe thead th {\n",
       "        text-align: right;\n",
       "    }\n",
       "</style>\n",
       "<table border=\"1\" class=\"dataframe\">\n",
       "  <thead>\n",
       "    <tr style=\"text-align: right;\">\n",
       "      <th></th>\n",
       "      <th>Country Code</th>\n",
       "      <th>Country</th>\n",
       "      <th>Average Alcohol</th>\n",
       "    </tr>\n",
       "  </thead>\n",
       "  <tbody>\n",
       "    <tr>\n",
       "      <th>0</th>\n",
       "      <td>AF</td>\n",
       "      <td>Afghanistan</td>\n",
       "      <td>0.031667</td>\n",
       "    </tr>\n",
       "    <tr>\n",
       "      <th>1</th>\n",
       "      <td>AL</td>\n",
       "      <td>Albania</td>\n",
       "      <td>5.188571</td>\n",
       "    </tr>\n",
       "    <tr>\n",
       "      <th>2</th>\n",
       "      <td>DZ</td>\n",
       "      <td>Algeria</td>\n",
       "      <td>0.505714</td>\n",
       "    </tr>\n",
       "    <tr>\n",
       "      <th>3</th>\n",
       "      <td>AO</td>\n",
       "      <td>Angola</td>\n",
       "      <td>7.291429</td>\n",
       "    </tr>\n",
       "    <tr>\n",
       "      <th>4</th>\n",
       "      <td>AR</td>\n",
       "      <td>Argentina</td>\n",
       "      <td>8.193333</td>\n",
       "    </tr>\n",
       "  </tbody>\n",
       "</table>\n",
       "</div>"
      ],
      "text/plain": [
       "  Country Code      Country  Average Alcohol\n",
       "0           AF  Afghanistan         0.031667\n",
       "1           AL      Albania         5.188571\n",
       "2           DZ      Algeria         0.505714\n",
       "3           AO       Angola         7.291429\n",
       "4           AR    Argentina         8.193333"
      ]
     },
     "execution_count": 2,
     "metadata": {},
     "output_type": "execute_result"
    }
   ],
   "source": [
    "# Import the original data we analyzed earlier. Use dtype=\"object\" to match other\n",
    "df_alchy = pd.read_csv(\"../data/clean_data/alcohol_ay_avg.csv\")\n",
    "df_alchy.head()"
   ]
  },
  {
   "cell_type": "code",
   "execution_count": 3,
   "metadata": {},
   "outputs": [
    {
     "data": {
      "text/html": [
       "<div>\n",
       "<style scoped>\n",
       "    .dataframe tbody tr th:only-of-type {\n",
       "        vertical-align: middle;\n",
       "    }\n",
       "\n",
       "    .dataframe tbody tr th {\n",
       "        vertical-align: top;\n",
       "    }\n",
       "\n",
       "    .dataframe thead th {\n",
       "        text-align: right;\n",
       "    }\n",
       "</style>\n",
       "<table border=\"1\" class=\"dataframe\">\n",
       "  <thead>\n",
       "    <tr style=\"text-align: right;\">\n",
       "      <th></th>\n",
       "      <th>Country</th>\n",
       "      <th>Country Code</th>\n",
       "      <th>Latitude</th>\n",
       "      <th>Longitude</th>\n",
       "      <th>Happiness</th>\n",
       "    </tr>\n",
       "  </thead>\n",
       "  <tbody>\n",
       "    <tr>\n",
       "      <th>0</th>\n",
       "      <td>Afghanistan</td>\n",
       "      <td>AF</td>\n",
       "      <td>33.939110</td>\n",
       "      <td>67.709953</td>\n",
       "      <td>3.897008</td>\n",
       "    </tr>\n",
       "    <tr>\n",
       "      <th>1</th>\n",
       "      <td>Albania</td>\n",
       "      <td>AL</td>\n",
       "      <td>41.153332</td>\n",
       "      <td>20.168331</td>\n",
       "      <td>5.018378</td>\n",
       "    </tr>\n",
       "    <tr>\n",
       "      <th>2</th>\n",
       "      <td>Algeria</td>\n",
       "      <td>DZ</td>\n",
       "      <td>28.033886</td>\n",
       "      <td>1.659626</td>\n",
       "      <td>5.616222</td>\n",
       "    </tr>\n",
       "    <tr>\n",
       "      <th>3</th>\n",
       "      <td>Angola</td>\n",
       "      <td>AO</td>\n",
       "      <td>-11.202692</td>\n",
       "      <td>17.873887</td>\n",
       "      <td>4.420299</td>\n",
       "    </tr>\n",
       "    <tr>\n",
       "      <th>4</th>\n",
       "      <td>Argentina</td>\n",
       "      <td>AR</td>\n",
       "      <td>-38.416097</td>\n",
       "      <td>-63.616672</td>\n",
       "      <td>6.580427</td>\n",
       "    </tr>\n",
       "  </tbody>\n",
       "</table>\n",
       "</div>"
      ],
      "text/plain": [
       "       Country Country Code   Latitude  Longitude  Happiness\n",
       "0  Afghanistan           AF  33.939110  67.709953   3.897008\n",
       "1      Albania           AL  41.153332  20.168331   5.018378\n",
       "2      Algeria           DZ  28.033886   1.659626   5.616222\n",
       "3       Angola           AO -11.202692  17.873887   4.420299\n",
       "4    Argentina           AR -38.416097 -63.616672   6.580427"
      ]
     },
     "execution_count": 3,
     "metadata": {},
     "output_type": "execute_result"
    }
   ],
   "source": [
    "df_happiness_complete = pd.read_csv(\"../data/clean_data/vis1_happinesscomplete.csv\")\n",
    "df_happiness_complete.head()"
   ]
  },
  {
   "cell_type": "code",
   "execution_count": 4,
   "metadata": {},
   "outputs": [
    {
     "data": {
      "text/html": [
       "<div>\n",
       "<style scoped>\n",
       "    .dataframe tbody tr th:only-of-type {\n",
       "        vertical-align: middle;\n",
       "    }\n",
       "\n",
       "    .dataframe tbody tr th {\n",
       "        vertical-align: top;\n",
       "    }\n",
       "\n",
       "    .dataframe thead th {\n",
       "        text-align: right;\n",
       "    }\n",
       "</style>\n",
       "<table border=\"1\" class=\"dataframe\">\n",
       "  <thead>\n",
       "    <tr style=\"text-align: right;\">\n",
       "      <th></th>\n",
       "      <th>Country</th>\n",
       "      <th>Country Code</th>\n",
       "      <th>Latitude</th>\n",
       "      <th>Longitude</th>\n",
       "      <th>Happiness</th>\n",
       "      <th>Alcohol</th>\n",
       "    </tr>\n",
       "  </thead>\n",
       "  <tbody>\n",
       "    <tr>\n",
       "      <th>0</th>\n",
       "      <td>Afghanistan</td>\n",
       "      <td>AF</td>\n",
       "      <td>33.939110</td>\n",
       "      <td>67.709953</td>\n",
       "      <td>3.897008</td>\n",
       "      <td>0.031667</td>\n",
       "    </tr>\n",
       "    <tr>\n",
       "      <th>1</th>\n",
       "      <td>Albania</td>\n",
       "      <td>AL</td>\n",
       "      <td>41.153332</td>\n",
       "      <td>20.168331</td>\n",
       "      <td>5.018378</td>\n",
       "      <td>5.188571</td>\n",
       "    </tr>\n",
       "    <tr>\n",
       "      <th>2</th>\n",
       "      <td>Algeria</td>\n",
       "      <td>DZ</td>\n",
       "      <td>28.033886</td>\n",
       "      <td>1.659626</td>\n",
       "      <td>5.616222</td>\n",
       "      <td>0.505714</td>\n",
       "    </tr>\n",
       "    <tr>\n",
       "      <th>3</th>\n",
       "      <td>Angola</td>\n",
       "      <td>AO</td>\n",
       "      <td>-11.202692</td>\n",
       "      <td>17.873887</td>\n",
       "      <td>4.420299</td>\n",
       "      <td>7.291429</td>\n",
       "    </tr>\n",
       "    <tr>\n",
       "      <th>4</th>\n",
       "      <td>Argentina</td>\n",
       "      <td>AR</td>\n",
       "      <td>-38.416097</td>\n",
       "      <td>-63.616672</td>\n",
       "      <td>6.580427</td>\n",
       "      <td>8.193333</td>\n",
       "    </tr>\n",
       "  </tbody>\n",
       "</table>\n",
       "</div>"
      ],
      "text/plain": [
       "       Country Country Code   Latitude  Longitude  Happiness   Alcohol\n",
       "0  Afghanistan           AF  33.939110  67.709953   3.897008  0.031667\n",
       "1      Albania           AL  41.153332  20.168331   5.018378  5.188571\n",
       "2      Algeria           DZ  28.033886   1.659626   5.616222  0.505714\n",
       "3       Angola           AO -11.202692  17.873887   4.420299  7.291429\n",
       "4    Argentina           AR -38.416097 -63.616672   6.580427  8.193333"
      ]
     },
     "execution_count": 4,
     "metadata": {},
     "output_type": "execute_result"
    }
   ],
   "source": [
    "#merge happiness_complete (161 rows) with happiness_df (153 rows)\n",
    "\n",
    "df_merged = pd.merge(\n",
    "    df_happiness_complete, df_alchy, how=\"inner\", on=[\"Country Code\", \"Country Code\"])\n",
    "\n",
    "#happiness_complete = [happiness_complete.iloc[:,0:5]]\n",
    "\n",
    "df_merged #has 153 rows after fixing Namibia problem\n",
    "\n",
    "df_merged.rename(columns={'Country_x': 'Country'}, inplace=True)\n",
    "df_merged.rename(columns={'Average Alcohol': 'Alcohol'}, inplace=True)\n",
    "\n",
    "del df_merged['Country_y']\n",
    "df_merged.head()\n"
   ]
  },
  {
   "cell_type": "code",
   "execution_count": 5,
   "metadata": {},
   "outputs": [],
   "source": [
    "# Output File (CSV)\n",
    "output_data_file2 = \"output/vis2_happinessalchymerge.csv\"\n",
    "#export file to look at in excel\n",
    "df_merged.to_csv(output_data_file2, encoding=\"utf-8\", index=False)"
   ]
  },
  {
   "cell_type": "code",
   "execution_count": 6,
   "metadata": {},
   "outputs": [
    {
     "data": {
      "text/plain": [
       "0       0.031667\n",
       "1       5.188571\n",
       "2       0.505714\n",
       "3       7.291429\n",
       "4       8.193333\n",
       "5       3.918571\n",
       "6       9.951429\n",
       "7      11.883333\n",
       "8       1.577143\n",
       "9       2.065714\n",
       "10      0.010000\n",
       "11     12.470000\n",
       "12     10.293333\n",
       "13      6.243333\n",
       "14      1.471667\n",
       "15      0.482500\n",
       "16      3.740000\n",
       "17      4.482857\n",
       "18      5.525000\n",
       "19      7.095714\n",
       "20     11.054286\n",
       "21      4.691667\n",
       "22      4.160000\n",
       "23      2.808571\n",
       "24      6.420000\n",
       "25      8.200000\n",
       "26      1.673333\n",
       "27      0.630000\n",
       "28      7.660000\n",
       "29      5.748571\n",
       "         ...    \n",
       "123     0.000000\n",
       "124     7.202857\n",
       "125     8.920000\n",
       "126     0.030000\n",
       "127     8.847143\n",
       "128     2.675000\n",
       "129     5.278571\n",
       "130     7.248571\n",
       "131     9.754286\n",
       "132     0.358333\n",
       "133     0.800000\n",
       "134     6.271667\n",
       "135     6.865000\n",
       "136     1.526667\n",
       "137     6.804286\n",
       "138     1.378571\n",
       "139     1.437143\n",
       "140     3.622857\n",
       "141     9.011667\n",
       "142     7.237143\n",
       "143     1.882857\n",
       "144     9.852857\n",
       "145     8.740000\n",
       "146     8.755000\n",
       "147     1.622857\n",
       "148     6.207143\n",
       "149     2.638571\n",
       "150     0.041667\n",
       "151     2.911667\n",
       "152     3.340000\n",
       "Name: Alcohol, Length: 153, dtype: float64"
      ]
     },
     "execution_count": 6,
     "metadata": {},
     "output_type": "execute_result"
    }
   ],
   "source": [
    "# Store 'Lat' and 'Lng' into  locations \n",
    "locations = df_merged[[\"Latitude\", \"Longitude\"]].astype(float)\n",
    "\n",
    "# Store alcohol\n",
    "alcohol = df_merged[\"Alcohol\"].astype(float)\n",
    "locations\n",
    "alcohol"
   ]
  },
  {
   "cell_type": "code",
   "execution_count": 7,
   "metadata": {},
   "outputs": [
    {
     "data": {
      "application/vnd.jupyter.widget-view+json": {
       "model_id": "ba4d9dc94b904ae881da0396687670c2",
       "version_major": 2,
       "version_minor": 0
      },
      "text/plain": [
       "Figure(layout=FigureLayout(height='420px'))"
      ]
     },
     "metadata": {},
     "output_type": "display_data"
    }
   ],
   "source": [
    "# Create a poverty Heatmap layer\n",
    "fig = gmaps.figure()\n",
    "\n",
    "heat_layer = gmaps.heatmap_layer(locations, weights=alcohol, \n",
    "                                 dissipating=False, max_intensity=100,\n",
    "                                 point_radius = 1)\n",
    "#heat_layer.gradient = [\n",
    "#'white',\n",
    "#'red',\n",
    "#'yellow',\n",
    "#    'green'\n",
    "#]\n",
    "#heat_layer.opacity = .8\n",
    "\n",
    "# Adjust heat_layer setting to help with heatmap dissipating on zoom\n",
    "#heat_layer.dissipating = True\n",
    "#heat_layer.max_intensity = 12000\n",
    "#heat_layer.point_radius = 10\n",
    "\n",
    "fig.add_layer(heat_layer)\n",
    "\n",
    "fig"
   ]
  },
  {
   "cell_type": "markdown",
   "metadata": {},
   "source": [
    "![Heatmap](../Images/heatmap.png)"
   ]
  },
  {
   "cell_type": "code",
   "execution_count": 8,
   "metadata": {},
   "outputs": [
    {
     "data": {
      "application/vnd.jupyter.widget-view+json": {
       "model_id": "7cff0aec97ee472cb0c9f79165118194",
       "version_major": 2,
       "version_minor": 0
      },
      "text/plain": [
       "Figure(layout=FigureLayout(height='420px'))"
      ]
     },
     "metadata": {},
     "output_type": "display_data"
    }
   ],
   "source": [
    "# Create a list containing coordinates\n",
    "coordinates = locations\n",
    "# Customize the size of the figure\n",
    "figure_layout = {\n",
    "    'width': '400px',\n",
    "    'height': '300px',\n",
    "    'border': '1px solid black',\n",
    "    'padding': '1px',\n",
    "    'margin': '0 auto 0 auto'\n",
    "}\n",
    "fig = gmaps.figure(figure_layout)\n",
    "\n",
    "fig\n",
    "\n",
    "# Assign the marker layer to a variable\n",
    "markers = gmaps.marker_layer(locations)\n",
    "# Add the layer to the map\n",
    "fig.add_layer(markers)\n",
    "fig"
   ]
  },
  {
   "cell_type": "code",
   "execution_count": 9,
   "metadata": {},
   "outputs": [
    {
     "data": {
      "text/html": [
       "<div>\n",
       "<style scoped>\n",
       "    .dataframe tbody tr th:only-of-type {\n",
       "        vertical-align: middle;\n",
       "    }\n",
       "\n",
       "    .dataframe tbody tr th {\n",
       "        vertical-align: top;\n",
       "    }\n",
       "\n",
       "    .dataframe thead th {\n",
       "        text-align: right;\n",
       "    }\n",
       "</style>\n",
       "<table border=\"1\" class=\"dataframe\">\n",
       "  <thead>\n",
       "    <tr style=\"text-align: right;\">\n",
       "      <th></th>\n",
       "      <th>Country</th>\n",
       "      <th>Country Code</th>\n",
       "      <th>Latitude</th>\n",
       "      <th>Longitude</th>\n",
       "      <th>Happiness</th>\n",
       "      <th>Alcohol</th>\n",
       "    </tr>\n",
       "  </thead>\n",
       "  <tbody>\n",
       "    <tr>\n",
       "      <th>0</th>\n",
       "      <td>Afghanistan</td>\n",
       "      <td>AF</td>\n",
       "      <td>33.939110</td>\n",
       "      <td>67.709953</td>\n",
       "      <td>3.897008</td>\n",
       "      <td>0.0</td>\n",
       "    </tr>\n",
       "    <tr>\n",
       "      <th>1</th>\n",
       "      <td>Albania</td>\n",
       "      <td>AL</td>\n",
       "      <td>41.153332</td>\n",
       "      <td>20.168331</td>\n",
       "      <td>5.018378</td>\n",
       "      <td>5.0</td>\n",
       "    </tr>\n",
       "    <tr>\n",
       "      <th>2</th>\n",
       "      <td>Algeria</td>\n",
       "      <td>DZ</td>\n",
       "      <td>28.033886</td>\n",
       "      <td>1.659626</td>\n",
       "      <td>5.616222</td>\n",
       "      <td>1.0</td>\n",
       "    </tr>\n",
       "    <tr>\n",
       "      <th>3</th>\n",
       "      <td>Angola</td>\n",
       "      <td>AO</td>\n",
       "      <td>-11.202692</td>\n",
       "      <td>17.873887</td>\n",
       "      <td>4.420299</td>\n",
       "      <td>7.0</td>\n",
       "    </tr>\n",
       "    <tr>\n",
       "      <th>4</th>\n",
       "      <td>Argentina</td>\n",
       "      <td>AR</td>\n",
       "      <td>-38.416097</td>\n",
       "      <td>-63.616672</td>\n",
       "      <td>6.580427</td>\n",
       "      <td>8.0</td>\n",
       "    </tr>\n",
       "  </tbody>\n",
       "</table>\n",
       "</div>"
      ],
      "text/plain": [
       "       Country Country Code   Latitude  Longitude  Happiness  Alcohol\n",
       "0  Afghanistan           AF  33.939110  67.709953   3.897008      0.0\n",
       "1      Albania           AL  41.153332  20.168331   5.018378      5.0\n",
       "2      Algeria           DZ  28.033886   1.659626   5.616222      1.0\n",
       "3       Angola           AO -11.202692  17.873887   4.420299      7.0\n",
       "4    Argentina           AR -38.416097 -63.616672   6.580427      8.0"
      ]
     },
     "execution_count": 9,
     "metadata": {},
     "output_type": "execute_result"
    }
   ],
   "source": [
    "#round to assign buckets\n",
    "import gmaps\n",
    "import gmaps.datasets\n",
    "\n",
    "alchy_round = df_merged\n",
    "alchy_round.Alcohol = alchy_round.Alcohol.round()\n",
    "alchy_round.head()\n"
   ]
  },
  {
   "cell_type": "code",
   "execution_count": 10,
   "metadata": {},
   "outputs": [],
   "source": [
    "#determine bins\n",
    "alchy_one = alchy_round[alchy_round.Alcohol < 1] \n",
    "alchy_two = alchy_round[alchy_round.Alcohol.between(1,1.9, inclusive=True)]\n",
    "alchy_three = alchy_round[alchy_round.Alcohol.between(2,2.9, inclusive=True)]\n",
    "alchy_four= alchy_round[alchy_round.Alcohol.between(3,3.9, inclusive=True)]\n",
    "alchy_five= alchy_round[alchy_round.Alcohol.between(4,4.9, inclusive=True)]\n",
    "alchy_six= alchy_round[alchy_round.Alcohol.between(5,5.9, inclusive=True)]\n",
    "alchy_seven= alchy_round[alchy_round.Alcohol.between(6,8.9, inclusive=True)]\n",
    "alchy_eight= alchy_round[alchy_round.Alcohol.between(9,11.9, inclusive=True)]\n",
    "alchy_nine= alchy_round[alchy_round.Alcohol.between(9,11.9, inclusive=True)]\n",
    "alchy_ten= alchy_round[alchy_round.Alcohol > 11.9]\n"
   ]
  },
  {
   "cell_type": "code",
   "execution_count": 11,
   "metadata": {},
   "outputs": [
    {
     "data": {
      "application/vnd.jupyter.widget-view+json": {
       "model_id": "1c430a71e6694086b380ca481976951c",
       "version_major": 2,
       "version_minor": 0
      },
      "text/plain": [
       "Figure(layout=FigureLayout(height='420px'))"
      ]
     },
     "metadata": {},
     "output_type": "display_data"
    }
   ],
   "source": [
    "#set bins of lat/longs\n",
    "alchy_one = alchy_one[['Latitude','Longitude']]\n",
    "alchy_two = alchy_two[['Latitude','Longitude']]\n",
    "alchy_three = alchy_three[['Latitude','Longitude']]\n",
    "alchy_four = alchy_four[['Latitude','Longitude']]\n",
    "alchy_five = alchy_five[['Latitude','Longitude']]\n",
    "alchy_six = alchy_six[['Latitude','Longitude']]\n",
    "alchy_seven = alchy_seven[['Latitude','Longitude']]\n",
    "alchy_eight = alchy_eight[['Latitude','Longitude']]\n",
    "alchy_nine = alchy_nine[['Latitude','Longitude']]\n",
    "alchy_ten = alchy_ten[['Latitude','Longitude']]\n",
    "\n",
    "#set layers for each rating bin\n",
    "alchy_one_layer = gmaps.symbol_layer(alchy_one, fill_opacity=0.5, hover_text='lightest drinkers', fill_color=\"green\", stroke_opacity=0.5, stroke_color= \"green\", scale =3)\n",
    "#alchy_two_layer = gmaps.symbol_layer(alchy_two, fill_opacity=0.2, fill_color='rgba(0, 0, 0, 1)', stroke_opacity=0.2, stroke_color= 'rgba(0, 0, 0, 1)', scale =3)\n",
    "#alchy_three_layer = gmaps.symbol_layer(alchy_three, fill_opacity=0.3, fill_color='rgba(0, 0, 0, 1)', stroke_opacity=0.3, stroke_color= 'rgba(0, 0, 0, 1)', scale =3)\n",
    "#alchy_four_layer = gmaps.symbol_layer(alchy_four, fill_opacity=0.4, fill_color='rgba(0, 0, 0, 1)', stroke_opacity=0.4, stroke_color= 'rgba(0, 0, 0, 1)', scale =3)\n",
    "#alchy_five_layer = gmaps.symbol_layer(alchy_five, fill_opacity=0.5, fill_color='rgba(0, 0, 0, 1)', stroke_opacity=0.5, stroke_color= 'rgba(0, 0, 0, 1)', scale =3)\n",
    "#alchy_six_layer = gmaps.symbol_layer(alchy_six, fill_opacity=0.6, fill_color='rgba(0, 0, 0, 1)', stroke_opacity=0.6, stroke_color= 'rgba(0, 0, 0, 1)', scale =3)\n",
    "#alchy_seven_layer = gmaps.symbol_layer(alchy_seven, fill_opacity=0.7, fill_color='rgba(0, 0, 0, 1)', stroke_opacity=0.7, stroke_color= 'rgba(0, 0, 0, 1)', scale =3)\n",
    "#alchy_eight_layer = gmaps.symbol_layer(alchy_eight, fill_opacity=0.8, fill_color='rgba(0, 0, 0, 1)', stroke_opacity=0.8, stroke_color= 'rgba(0, 0, 0, 1)', scale =3)\n",
    "#alchy_nine_layer = gmaps.symbol_layer(alchy_nine, fill_opacity=0.9, fill_color='rgba(0, 0, 0, 1)', stroke_opacity=0.9, stroke_color= 'rgba(0, 0, 0, 1)', scale =3)\n",
    "#alchy_ten_layer = gmaps.symbol_layer(alchy_ten, fill_opacity=1, fill_color='rgba(0, 0, 0, 1)', stroke_opacity=1, stroke_color= 'rgba(0, 0, 0, 1)', scale =3)\n",
    "\n",
    "\n",
    "#gmaps.symbol_layer(locations, hover_text='', fill_color=None, fill_opacity=1.0, stroke_color=None, stroke_opacity=1.0, scale=3, info_box_content=None, display_info_box=None)¶\n",
    "\n",
    "#add all layers in and map\n",
    "fig = gmaps.figure()\n",
    "fig.add_layer(alchy_one_layer)\n",
    "#fig.add_layer(alchy_two_layer)\n",
    "#fig.add_layer(alchy_three_layer)\n",
    "#fig.add_layer(alchy_four_layer)\n",
    "#fig.add_layer(alchy_five_layer)\n",
    "#fig.add_layer(alchy_six_layer)\n",
    "#fig.add_layer(alchy_seven_layer)\n",
    "#fig.add_layer(alchy_eight_layer)\n",
    "#fig.add_layer(alchy_nine_layer)\n",
    "#fig.add_layer(alchy_ten_layer)\n",
    "\n",
    "fig"
   ]
  },
  {
   "cell_type": "code",
   "execution_count": 12,
   "metadata": {},
   "outputs": [
    {
     "data": {
      "application/vnd.jupyter.widget-view+json": {
       "model_id": "6d2a970cbcf74ba1be7ab0eb24668b86",
       "version_major": 2,
       "version_minor": 0
      },
      "text/plain": [
       "Figure(layout=FigureLayout(height='420px'))"
      ]
     },
     "metadata": {},
     "output_type": "display_data"
    }
   ],
   "source": [
    "#set bins of lat/longs\n",
    "alchy_one = alchy_one[['Latitude','Longitude']]\n",
    "alchy_two = alchy_two[['Latitude','Longitude']]\n",
    "alchy_three = alchy_three[['Latitude','Longitude']]\n",
    "alchy_four = alchy_four[['Latitude','Longitude']]\n",
    "alchy_five = alchy_five[['Latitude','Longitude']]\n",
    "alchy_six = alchy_six[['Latitude','Longitude']]\n",
    "alchy_seven = alchy_seven[['Latitude','Longitude']]\n",
    "alchy_eight = alchy_eight[['Latitude','Longitude']]\n",
    "alchy_nine = alchy_nine[['Latitude','Longitude']]\n",
    "alchy_ten = alchy_ten[['Latitude','Longitude']]\n",
    "\n",
    "#set layers for each rating bin\n",
    "alchy_one_layer = gmaps.symbol_layer(alchy_one, fill_opacity=0.5, hover_text='lightest drinkers', fill_color=\"green\", stroke_opacity=0.5, stroke_color= \"green\", scale =3)\n",
    "#alchy_two_layer = gmaps.symbol_layer(alchy_two, fill_opacity=0.2, fill_color='rgba(0, 0, 0, 1)', stroke_opacity=0.2, stroke_color= 'rgba(0, 0, 0, 1)', scale =3)\n",
    "#alchy_three_layer = gmaps.symbol_layer(alchy_three, fill_opacity=0.3, fill_color='rgba(0, 0, 0, 1)', stroke_opacity=0.3, stroke_color= 'rgba(0, 0, 0, 1)', scale =3)\n",
    "#alchy_four_layer = gmaps.symbol_layer(alchy_four, fill_opacity=0.4, fill_color='rgba(0, 0, 0, 1)', stroke_opacity=0.4, stroke_color= 'rgba(0, 0, 0, 1)', scale =3)\n",
    "#alchy_five_layer = gmaps.symbol_layer(alchy_five, fill_opacity=0.5, fill_color='rgba(0, 0, 0, 1)', stroke_opacity=0.5, stroke_color= 'rgba(0, 0, 0, 1)', scale =3)\n",
    "#alchy_six_layer = gmaps.symbol_layer(alchy_six, fill_opacity=0.6, fill_color='rgba(0, 0, 0, 1)', stroke_opacity=0.6, stroke_color= 'rgba(0, 0, 0, 1)', scale =3)\n",
    "#alchy_seven_layer = gmaps.symbol_layer(alchy_seven, fill_opacity=0.7, fill_color='rgba(0, 0, 0, 1)', stroke_opacity=0.7, stroke_color= 'rgba(0, 0, 0, 1)', scale =3)\n",
    "#alchy_eight_layer = gmaps.symbol_layer(alchy_eight, fill_opacity=0.8, fill_color='rgba(0, 0, 0, 1)', stroke_opacity=0.8, stroke_color= 'rgba(0, 0, 0, 1)', scale =3)\n",
    "#alchy_nine_layer = gmaps.symbol_layer(alchy_nine, fill_opacity=0.9, fill_color='rgba(0, 0, 0, 1)', stroke_opacity=0.9, stroke_color= 'rgba(0, 0, 0, 1)', scale =3)\n",
    "alchy_ten_layer = gmaps.symbol_layer(alchy_ten, fill_opacity=1, fill_color='red', stroke_opacity=1, stroke_color= 'red', scale =3)\n",
    "\n",
    "\n",
    "#gmaps.symbol_layer(locations, hover_text='', fill_color=None, fill_opacity=1.0, stroke_color=None, stroke_opacity=1.0, scale=3, info_box_content=None, display_info_box=None)¶\n",
    "\n",
    "#add all layers in and map\n",
    "fig = gmaps.figure()\n",
    "fig.add_layer(alchy_one_layer)\n",
    "#fig.add_layer(alchy_two_layer)\n",
    "#fig.add_layer(alchy_three_layer)\n",
    "#fig.add_layer(alchy_four_layer)\n",
    "#fig.add_layer(alchy_five_layer)\n",
    "#fig.add_layer(alchy_six_layer)\n",
    "#fig.add_layer(alchy_seven_layer)\n",
    "#fig.add_layer(alchy_eight_layer)\n",
    "#fig.add_layer(alchy_nine_layer)\n",
    "fig.add_layer(alchy_ten_layer)\n",
    "\n",
    "fig"
   ]
  },
  {
   "cell_type": "code",
   "execution_count": null,
   "metadata": {},
   "outputs": [],
   "source": []
  },
  {
   "cell_type": "markdown",
   "metadata": {},
   "source": [
    "![Bank Map](../Images/bank_map.png)"
   ]
  },
  {
   "cell_type": "code",
   "execution_count": 13,
   "metadata": {},
   "outputs": [
    {
     "ename": "NameError",
     "evalue": "name 'bank_layer' is not defined",
     "output_type": "error",
     "traceback": [
      "\u001b[1;31m---------------------------------------------------------------------------\u001b[0m",
      "\u001b[1;31mNameError\u001b[0m                                 Traceback (most recent call last)",
      "\u001b[1;32m<ipython-input-13-65f5a6696a72>\u001b[0m in \u001b[0;36m<module>\u001b[1;34m()\u001b[0m\n\u001b[0;32m      3\u001b[0m \u001b[1;33m\u001b[0m\u001b[0m\n\u001b[0;32m      4\u001b[0m \u001b[0mfig\u001b[0m\u001b[1;33m.\u001b[0m\u001b[0madd_layer\u001b[0m\u001b[1;33m(\u001b[0m\u001b[0mheat_layer\u001b[0m\u001b[1;33m)\u001b[0m\u001b[1;33m\u001b[0m\u001b[0m\n\u001b[1;32m----> 5\u001b[1;33m \u001b[0mfig\u001b[0m\u001b[1;33m.\u001b[0m\u001b[0madd_layer\u001b[0m\u001b[1;33m(\u001b[0m\u001b[0mbank_layer\u001b[0m\u001b[1;33m)\u001b[0m\u001b[1;33m\u001b[0m\u001b[0m\n\u001b[0m\u001b[0;32m      6\u001b[0m \u001b[1;33m\u001b[0m\u001b[0m\n\u001b[0;32m      7\u001b[0m \u001b[0mfig\u001b[0m\u001b[1;33m\u001b[0m\u001b[0m\n",
      "\u001b[1;31mNameError\u001b[0m: name 'bank_layer' is not defined"
     ]
    }
   ],
   "source": [
    "# Create a combined map\n",
    "fig = gmaps.figure()\n",
    "\n",
    "fig.add_layer(heat_layer)\n",
    "fig.add_layer(bank_layer)\n",
    "\n",
    "fig"
   ]
  },
  {
   "cell_type": "markdown",
   "metadata": {},
   "source": [
    "![Combined Map](../Images/final_map.png)"
   ]
  },
  {
   "cell_type": "code",
   "execution_count": 18,
   "metadata": {},
   "outputs": [
    {
     "data": {
      "image/png": "[encoded data removed]",
      "text/plain": [
       "<Figure size 720x432 with 1 Axes>"
      ]
     },
     "metadata": {
      "needs_background": "light"
     },
     "output_type": "display_data"
    }
   ],
   "source": [
    "# Plotting the Data - Latitude vs. Alcohol Plot\n",
    "plt.figure(figsize=(10,6))\n",
    "plt.scatter(df_merged[\"Latitude\"], df_merged[\"Alcohol\"], color='m', alpha=0.9)\n",
    "plt.grid()\n",
    "plt.xlabel('Latitude')\n",
    "plt.ylabel('Annual Liter per Capita of All Alcoholic Beverages')\n",
    "plt.title(f'Country Latitude vs Alcohol Consumption')\n",
    "plt.savefig(\"./output/latvalchy.png\")\n",
    "\n",
    "lat_slope, lat_int, lat_r, lat_p, lat_std_err = stats.linregress(\n",
    "    df_merged[\"Latitude\"], df_merged[\"Alcohol\"])\n",
    "lat_fit = lat_slope * df_merged[\"Latitude\"] + lat_int\n",
    "\n",
    "plt.show()"
   ]
  },
  {
   "cell_type": "code",
   "execution_count": 517,
   "metadata": {},
   "outputs": [
    {
     "data": {
      "image/png": "[encoded data removed]",
      "text/plain": [
       "<Figure size 720x432 with 1 Axes>"
      ]
     },
     "metadata": {
      "needs_background": "light"
     },
     "output_type": "display_data"
    }
   ],
   "source": [
    "# Plotting the Data - Latitude vs. Alcohol Plot\n",
    "plt.figure(figsize=(10,6))\n",
    "plt.scatter(df_merged[\"Happiness\"], df_merged[\"Alcohol\"], color='m', alpha=0.9)\n",
    "plt.grid()\n",
    "plt.xlabel('Happiness')\n",
    "plt.ylabel('Annual Liter per Capita of All Alcoholic Beverages')\n",
    "plt.title(f'Country Happiness vs Alcohol Consumption')\n",
    "plt.savefig(\"./output/happyvalchy.png\")\n",
    "plt.show()"
   ]
  },
  {
   "cell_type": "code",
   "execution_count": null,
   "metadata": {},
   "outputs": [],
   "source": []
  }
 ],
 "metadata": {
  "kernelspec": {
   "display_name": "Python 3",
   "language": "python",
   "name": "python3"
  },
  "language_info": {
   "codemirror_mode": {
    "name": "ipython",
    "version": 3
   },
   "file_extension": ".py",
   "mimetype": "text/x-python",
   "name": "python",
   "nbconvert_exporter": "python",
   "pygments_lexer": "ipython3",
   "version": "3.7.0"
  }
 },
 "nbformat": 4,
 "nbformat_minor": 2
}
