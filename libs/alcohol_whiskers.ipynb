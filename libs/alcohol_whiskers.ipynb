{
 "cells": [
  {
   "cell_type": "code",
   "execution_count": 1,
   "metadata": {},
   "outputs": [],
   "source": [
    "from matplotlib import pyplot as plt\n",
    "import numpy as np\n",
    "import scipy.stats as stats\n",
    "import pandas as pd"
   ]
  },
  {
   "cell_type": "code",
   "execution_count": 2,
   "metadata": {},
   "outputs": [],
   "source": [
    "df_alcohol = pd.read_csv(\"../data/clean_data/alcohol_adam.csv\")\n",
    "df_alcohol.set_index('Country Code', inplace=True, drop=True)\n",
    "df_alcohol_2 = pd.read_csv(\"../data/clean_data/alcohol_adam.csv\")\n",
    "#df_alcohol_2 = pd.read_csv(\"C:/Users/adama/Desktop/DrinkAndBeHapPY/data/clean_data/alcohol.csv\")"
   ]
  },
  {
   "cell_type": "code",
   "execution_count": 3,
   "metadata": {},
   "outputs": [],
   "source": [
    "list_countries = df_alcohol_2[\"Country Code\"].unique()\n",
    "num_countries = df_alcohol_2[\"Country Code\"].nunique()\n",
    "list_years = [\"2016\", \"2015\", \"2014\", \"2013\", \"2012\", \"2011\", \"2010\"]\n",
    "#need to change nan not NA for namibia, for some rason interpreted as NaN, fixing namibia\n",
    "list_countries[108] = 'NA'\n",
    "df_alcohol_2.at[580, 'Country Code'] = 'NA'\n",
    "df_alcohol_2.at[581, 'Country Code'] = 'NA'\n",
    "df_alcohol_2.at[582, 'Country Code'] = 'NA'\n",
    "df_alcohol_2.at[583, 'Country Code'] = 'NA'\n",
    "df_alcohol_2.at[584, 'Country Code'] = 'NA'\n",
    "#print(num_countries)\n",
    "#print(list_countries)"
   ]
  },
  {
   "cell_type": "code",
   "execution_count": 4,
   "metadata": {},
   "outputs": [
    {
     "name": "stdout",
     "output_type": "stream",
     "text": [
      "    Country Code  Country  Data Source             Beverage Types  2016  2015  \\\n",
      "575           MM  Myanmar  Data source                  All types   NaN  1.60   \n",
      "576           MM  Myanmar  Data source                       Beer   NaN  0.36   \n",
      "577           MM  Myanmar  Data source                       Wine   NaN  0.16   \n",
      "578           MM  Myanmar  Data source                    Spirits   NaN  1.08   \n",
      "579           MM  Myanmar  Data source  Other alcoholic beverages   NaN  0.01   \n",
      "\n",
      "     2014  2013  2012  2011  2010  \n",
      "575  1.78  1.67  1.36  1.09  0.97  \n",
      "576  0.59  0.46  0.36  0.17  0.15  \n",
      "577  0.15  0.18  0.00  0.00  0.00  \n",
      "578  1.04  1.03  1.00  0.92  0.82  \n",
      "579  0.01  0.01  0.01  0.01  0.01  \n"
     ]
    }
   ],
   "source": [
    "country_df = df_alcohol_2.loc[df_alcohol_2['Country Code'] == 'MM']\n",
    "print(country_df)\n",
    "#print(df_alcohol_2)"
   ]
  },
  {
   "cell_type": "code",
   "execution_count": 5,
   "metadata": {},
   "outputs": [],
   "source": [
    "all_types = []\n",
    "beer = []\n",
    "wine = []\n",
    "spirits = []\n",
    "other = []\n",
    "\n",
    "d = {}\n",
    "\n",
    "for country in list_countries:\n",
    "    country_df = df_alcohol_2.loc[df_alcohol_2['Country Code'] == country]\n",
    "    #print(country_df)\n",
    "    #print(country)\n",
    "    #for year in list_years:\n",
    "    all_types_df = country_df.loc[:,'Beverage Types':'2010']\n",
    "    all_types_df.set_index('Beverage Types', inplace=True, drop=True)\n",
    "    #print(all_types_df)\n",
    "    all_types.append(all_types_df.iat[0,6])\n",
    "    beer.append(all_types_df.iat[1,6])\n",
    "    wine.append(all_types_df.iat[2,6])\n",
    "    spirits.append(all_types_df.iat[3,6])\n",
    "    #print(country)\n",
    "    other.append(all_types_df.iat[4,6])\n",
    "    list_df = [all_types_df.iat[0,6],\n",
    "                 all_types_df.iat[1,6],\n",
    "                 all_types_df.iat[2,6],\n",
    "                 all_types_df.iat[3,6],\n",
    "                 all_types_df.iat[4,6]]\n",
    "    d[country] = list_df\n",
    "#print(all_types_df.iat[3,6])\n",
    "#dict_all = dict(zip(list_countries, all_types))\n",
    "#dict_beer = dict(zip(list_countries, beer))\n",
    "##dict_wine = dict(zip(list_countries, wine))\n",
    "#dict_spirits = dict(zip(list_countries, spirits))\n",
    "#dict_other = dict(zip(list_countries, other))\n",
    "\n",
    "df = pd.DataFrame.from_dict(d)\n",
    "#print(df)\n",
    "        #all_types =  all_types_df.iat[1,1]\n",
    "        #all_types_df_2 = all_types_df.loc[all_types_df['Beverage Types'] == 'All Types']\n",
    "        #new_df = df_alcohol.loc[df_alcohol['Country'] == 'Finland']\n",
    "#country_df\n",
    "# 0 = all types, 1 = beer, 2 = wine, 3 = spirits, 4 = other\n",
    "#all_types_df\n",
    "#all_types.append(all_types_df.iat[0,1])\n",
    "#all_types =  all_types_df.iat[0,1]\n",
    "#print(all_types)\n",
    "#all_types_df\n",
    "        #all_intake = float(df_alcohol.loc[country, year])\n",
    "        #beer_intake\n",
    "        #wine_intake\n",
    "        #spirits_intake\n",
    "        #other_intake\n",
    "        #intake = float(df_alcohol.loc[country, year])\n",
    "        #intake_total += intake\n",
    "        #avg_intake = intake_total/i\n",
    "    #print(country + \" : \" + avg_intake)\n",
    "#print(country_df)\n",
    "#print(\"word\")"
   ]
  },
  {
   "cell_type": "code",
   "execution_count": 6,
   "metadata": {},
   "outputs": [],
   "source": [
    "all_alcohol = df.loc[0]\n",
    "y = np.isnan(all_alcohol)\n",
    "i = 0\n",
    "for element in y:\n",
    "    if element == True:\n",
    "        #print(beer_df.iat[i], i)\n",
    "        all_alcohol.iat[i] = 0\n",
    "        #print(all_alcohol.iat[i])\n",
    "    i = i + 1\n",
    "    \n",
    "beer_df = df.loc[1]\n",
    "y = np.isnan(beer_df)\n",
    "i = 0\n",
    "for element in y:\n",
    "    if element == True:\n",
    "        #print(beer_df.iat[i], i)\n",
    "        beer_df.iat[i] = 0\n",
    "        #print(all_alcohol.iat[i])\n",
    "    i = i + 1\n",
    "    \n",
    "wine_df = df.loc[2]\n",
    "y = np.isnan(wine_df)\n",
    "i = 0\n",
    "for element in y:\n",
    "    if element == True:\n",
    "        #print(beer_df.iat[i], i)\n",
    "        wine_df.iat[i] = 0\n",
    "        #print(all_alcohol.iat[i])\n",
    "    i = i + 1 \n",
    "    \n",
    "spirits_df = df.loc[3]\n",
    "y = np.isnan(spirits_df)\n",
    "i = 0\n",
    "for element in y:\n",
    "    if element == True:\n",
    "        #print(beer_df.iat[i], i)\n",
    "        spirits_df.iat[i] = 0\n",
    "        #print(all_alcohol.iat[i])\n",
    "    i = i + 1 \n",
    "\n",
    "other_df = df.loc[4]\n",
    "y = np.isnan(other_df)\n",
    "i = 0\n",
    "for element in y:\n",
    "    if element == True:\n",
    "        #print(beer_df.iat[i], i)\n",
    "        other_df.iat[i] = 0\n",
    "        #print(all_alcohol.iat[i])\n",
    "    i = i + 1 \n",
    "#print(all_alcohol.head)\n",
    "#print(y)\n",
    "#avg_alc = all_alcohol.mean()\n",
    "##max_alc = all_alcohol.max()\n",
    "#min_alc = all_alcohol.min()\n",
    "#print(avg_alc,max_alc, min_alc)"
   ]
  },
  {
   "cell_type": "code",
   "execution_count": 12,
   "metadata": {},
   "outputs": [
    {
     "data": {
      "image/png": "[encoded data removed]",
      "text/plain": [
       "<Figure size 432x288 with 1 Axes>"
      ]
     },
     "metadata": {
      "needs_background": "light"
     },
     "output_type": "display_data"
    }
   ],
   "source": [
    "center = stats.tmean(all_alcohol)\n",
    "max_val = stats.tmax(all_alcohol)\n",
    "min_val = stats.tmin(all_alcohol)\n",
    "iqr = stats.iqr(all_alcohol)\n",
    "q1 = np.percentile(all_alcohol, 25)\n",
    "q3 = np.percentile(all_alcohol, 75)\n",
    "iqr_2 = (q3 - q1)\n",
    "lower_boundary = q1 - (1.5 * iqr)\n",
    "upper_boundary = q3 + (1.5 * iqr)\n",
    "#flier_high = max_alc\n",
    "#flier_low = min_alc\n",
    "#data = np.concatenate((all_alcohol), axis=None)\n",
    "#print(data)\n",
    "#plt.title('Basic Plot')\n",
    "labels = ['All', 'Beer', 'Wine', 'Spirits', 'Other']\n",
    "data = [all_alcohol, beer_df, spirits_df, wine_df, other_df]\n",
    "f = plt.figure()\n",
    "plt.boxplot(data, vert=False, notch=True, showmeans=True, labels=labels, meanline=True)\n",
    "plt.title('Alcohol Consumption (All, Beer, Wine, Spirits, Other)')\n",
    "plt.grid()\n",
    "plt.show()\n",
    "f.savefig(\"foo.pdf\", bbox_inches='tight')"
   ]
  },
  {
   "cell_type": "code",
   "execution_count": 8,
   "metadata": {},
   "outputs": [
    {
     "data": {
      "text/plain": [
       "18"
      ]
     },
     "execution_count": 8,
     "metadata": {},
     "output_type": "execute_result"
    }
   ],
   "source": [
    "iqr = stats.iqr(wine_df)\n",
    "q1 = np.percentile(wine_df, 25)\n",
    "q3 = np.percentile(wine_df, 75)\n",
    "lower_boundary = q1 - (1.5 * iqr)\n",
    "upper_boundary = q3 + (1.5 * iqr)\n",
    "num_outliers = len(wine_df[wine_df >= upper_boundary])\n",
    "num_outliers"
   ]
  },
  {
   "cell_type": "code",
   "execution_count": 9,
   "metadata": {},
   "outputs": [
    {
     "data": {
      "text/plain": [
       "3"
      ]
     },
     "execution_count": 9,
     "metadata": {},
     "output_type": "execute_result"
    }
   ],
   "source": [
    "iqr = stats.iqr(spirits_df)\n",
    "q1 = np.percentile(spirits_df, 25)\n",
    "q3 = np.percentile(spirits_df, 75)\n",
    "lower_boundary = q1 - (1.5 * iqr)\n",
    "upper_boundary = q3 + (1.5 * iqr)\n",
    "num_outliers = len(spirits_df[spirits_df >= upper_boundary])\n",
    "num_outliers"
   ]
  },
  {
   "cell_type": "code",
   "execution_count": 10,
   "metadata": {},
   "outputs": [
    {
     "data": {
      "text/plain": [
       "29"
      ]
     },
     "execution_count": 10,
     "metadata": {},
     "output_type": "execute_result"
    }
   ],
   "source": [
    "iqr = stats.iqr(other_df)\n",
    "q1 = np.percentile(other_df, 25)\n",
    "q3 = np.percentile(other_df, 75)\n",
    "lower_boundary = q1 - (1.5 * iqr)\n",
    "upper_boundary = q3 + (1.5 * iqr)\n",
    "num_outliers = len(other_df[other_df >= upper_boundary])\n",
    "num_outliers"
   ]
  },
  {
   "cell_type": "code",
   "execution_count": null,
   "metadata": {},
   "outputs": [],
   "source": []
  }
 ],
 "metadata": {
  "kernelspec": {
   "display_name": "Python 3",
   "language": "python",
   "name": "python3"
  },
  "language_info": {
   "codemirror_mode": {
    "name": "ipython",
    "version": 3
   },
   "file_extension": ".py",
   "mimetype": "text/x-python",
   "name": "python",
   "nbconvert_exporter": "python",
   "pygments_lexer": "ipython3",
   "version": "3.7.0"
  }
 },
 "nbformat": 4,
 "nbformat_minor": 2
}
