{
 "cells": [
  {
   "cell_type": "code",
   "execution_count": null,
   "metadata": {},
   "outputs": [],
   "source": [
    "from matplotlib import pyplot as plt\n",
    "import numpy as np\n",
    "import scipy.stats as stats\n",
    "import pandas as pd"
   ]
  },
  {
   "cell_type": "code",
   "execution_count": null,
   "metadata": {},
   "outputs": [],
   "source": [
    "df_happy = pd.read_csv(\"../data/clean_data/happiness_raw_2017.csv\")\n",
    "df_happy.head()"
   ]
  },
  {
   "cell_type": "code",
   "execution_count": null,
   "metadata": {},
   "outputs": [],
   "source": [
    "headers = [\"country\", \"score\", \"whisker_high\", \"whisker_low\", \"gdp\", \"social\", \"life_expectancy\", \"freedom\", \"generosity\", \"corruption\", \"dystopia\"]\n",
    "df_happy.columns = headers\n",
    "df_happy.head()"
   ]
  },
  {
   "cell_type": "code",
   "execution_count": null,
   "metadata": {},
   "outputs": [],
   "source": [
    "country = df_happy[\"country\"]\n",
    "gdp = df_happy[\"gdp\"]\n",
    "social = df_happy[\"social\"]\n",
    "life_expectancy = df_happy[\"life_expectancy\"]\n",
    "freedom = df_happy[\"freedom\"]\n",
    "generosity = df_happy[\"generosity\"]\n",
    "corruption = df_happy[\"corruption\"]\n",
    "dystopia = df_happy[\"dystopia\"]"
   ]
  }
 ],
 "metadata": {
  "kernelspec": {
   "display_name": "Python 3",
   "language": "python",
   "name": "python3"
  },
  "language_info": {
   "codemirror_mode": {
    "name": "ipython",
    "version": 3
   },
   "file_extension": ".py",
   "mimetype": "text/x-python",
   "name": "python",
   "nbconvert_exporter": "python",
   "pygments_lexer": "ipython3",
   "version": "3.7.0"
  }
 },
 "nbformat": 4,
 "nbformat_minor": 2
}
